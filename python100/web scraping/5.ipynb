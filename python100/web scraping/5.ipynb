{
 "cells": [
  {
   "cell_type": "markdown",
   "metadata": {},
   "source": [
    "# 5. 크롬 개발자도구\n",
    "\n",
    "크롬 개발자 도구를 활용해서 HTML 태그 요소를 확인하는 방법을 이해한다.\n",
    "\n",
    "beautifulsoup 클래스의 find() 메소드에 HTML 태그이름 ('img')를 전달하면, 해당하는 태그 요소를 찾을 수 있다. \n"
   ]
  }
 ],
 "metadata": {
  "kernelspec": {
   "display_name": "Python 3",
   "language": "python",
   "name": "python3"
  },
  "language_info": {
   "codemirror_mode": {
    "name": "ipython",
    "version": 3
   },
   "file_extension": ".py",
   "mimetype": "text/x-python",
   "name": "python",
   "nbconvert_exporter": "python",
   "pygments_lexer": "ipython3",
   "version": "3.7.6"
  }
 },
 "nbformat": 4,
 "nbformat_minor": 4
}
