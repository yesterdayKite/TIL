{
 "cells": [
  {
   "cell_type": "markdown",
   "metadata": {},
   "source": [
    "# 4. beautiful soup 객체 만들기\n",
    "\n",
    "위키피디아에 서울 지하철 정보 웹페이지"
   ]
  },
  {
   "cell_type": "markdown",
   "metadata": {},
   "source": [
    "스크래핑 이전 로봇 접근 허용 여부 확인"
   ]
  },
  {
   "cell_type": "code",
   "execution_count": null,
   "metadata": {},
   "outputs": [],
   "source": [
    "import requests\n",
    "\n",
    "url = \"https://en.wikipedia.org/robots.txt\"\n",
    "\n",
    "resp = requests.get(url) #해당 url의 robots.txt로 get요청 보낸다.\n",
    "print(resp.text) # 응답 객체의 html text 내용 출력"
   ]
  },
  {
   "cell_type": "code",
   "execution_count": 3,
   "metadata": {},
   "outputs": [
    {
     "name": "stdout",
     "output_type": "stream",
     "text": [
      "<class 'bs4.BeautifulSoup'>\n",
      "\n"
     ]
    }
   ],
   "source": [
    "import requests\n",
    "from bs4 import BeautifulSoup\n",
    "\n",
    "#Get 요청 보내고, 응답한 객체와 html 소스코드를 저장\n",
    "url = \"https://en.wikipedia.org/wiki/Seoul_Metropolitan_Subway\"\n",
    "resp = requests.get(url)\n",
    "html_src = resp.text \n",
    "\n",
    "# Beautiful soup 함수는 매개변수로 전달받은 HTML 소스코드 해석해서 beautiful soup 객체를 생성\n",
    "# 이때, html을 파싱(해석)하는 적절한 구문해석기를 함께 입력해야함 (여기서는 html.parser)\n",
    "soup = BeautifulSoup(html_src, 'html.parser')\n",
    "print(type(soup))"
   ]
  },
  {
   "cell_type": "code",
   "execution_count": null,
   "metadata": {},
   "outputs": [],
   "source": [
    "# HTML 웹문서의 <head>태그 내용이 출력\n",
    "print(soup.head)"
   ]
  },
  {
   "cell_type": "code",
   "execution_count": null,
   "metadata": {},
   "outputs": [],
   "source": [
    "# HTML 웹문서의 <body>태그 내용이 출력\n",
    "print(soup.body)"
   ]
  },
  {
   "cell_type": "code",
   "execution_count": 6,
   "metadata": {},
   "outputs": [
    {
     "name": "stdout",
     "output_type": "stream",
     "text": [
      "title 태그 요소 :  <title>Seoul Metropolitan Subway - Wikipedia</title>\n",
      "title 태그 이름 :  title\n",
      "title 태그 문자열 :  Seoul Metropolitan Subway - Wikipedia\n"
     ]
    }
   ],
   "source": [
    "print('title 태그 요소 : ', soup.title)\n",
    "print('title 태그 이름 : ', soup.title.name)\n",
    "print('title 태그 문자열 : ', soup.title.string)"
   ]
  }
 ],
 "metadata": {
  "kernelspec": {
   "display_name": "Python 3",
   "language": "python",
   "name": "python3"
  },
  "language_info": {
   "codemirror_mode": {
    "name": "ipython",
    "version": 3
   },
   "file_extension": ".py",
   "mimetype": "text/x-python",
   "name": "python",
   "nbconvert_exporter": "python",
   "pygments_lexer": "ipython3",
   "version": "3.7.6"
  }
 },
 "nbformat": 4,
 "nbformat_minor": 4
}
