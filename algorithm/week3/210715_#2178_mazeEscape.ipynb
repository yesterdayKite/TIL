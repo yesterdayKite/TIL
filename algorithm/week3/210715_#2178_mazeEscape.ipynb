{
 "cells": [
  {
   "cell_type": "markdown",
   "metadata": {},
   "source": [
    "# 미로 탐색\n"
   ]
  },
  {
   "cell_type": "code",
   "execution_count": 5,
   "metadata": {},
   "outputs": [
    {
     "name": "stdin",
     "output_type": "stream",
     "text": [
      " 4 6\n",
      " 101111\n",
      " 101010\n",
      " 101011\n",
      " 111011\n"
     ]
    },
    {
     "name": "stdout",
     "output_type": "stream",
     "text": [
      "15\n"
     ]
    }
   ],
   "source": [
    "from collections import deque\n",
    "\n",
    "N, M = map(int, input().split())\n",
    "\n",
    "# list가 N개 있는 list\n",
    "graph = [list(map(int, input())) for _ in range(N)]\n",
    "# N*M 테이블\n",
    "count_table = [[0]*M for _ in range(N)]\n",
    "visited = [[False]*M for _ in range(N)]\n",
    "\n",
    "# 첫시작점을 큐에 넣고, 방문했다고 체크한다.\n",
    "queue = [[0, 0]]\n",
    "visited[0][0] = True\n",
    "count_table[0][0] = 1\n",
    "\n",
    "# 상 하 좌 우\n",
    "dy = [-1, 1, 0, 0]\n",
    "dx = [0, 0, -1, 1]\n",
    "\n",
    "while queue:\n",
    "    # 넣을때 x,y 순으로 넣었으니까 거꾸로 순서로 pop\n",
    "    y, x = queue.pop(0)\n",
    "\n",
    "    #정답 발견\n",
    "    if x == M and y == N:\n",
    "        break\n",
    "\n",
    "    # 움직일 수 있는 경우의 수\n",
    "    for i in range(4):\n",
    "        nX = x + dx[i]\n",
    "        nY = y + dy[i]\n",
    "\n",
    "        # 체스판의 범위에 있을때\n",
    "        if 0 <= nX < M and 0 <= nY < N:\n",
    "            #간선으로 연결된 vertex이면서, 아직 방문되지 않았을때\n",
    "            # 방문하고, 방문할 목록 queue에 넣어두고, \n",
    "            # 방문하면서 방문횟수를 1 늘린다.\n",
    "            # 왜 방문되지 않은 것만 체크하냐면, 일찍 방문했으면 그게 제일 최소 카운트이기 때문에\n",
    "            # 한번 방문 한것은 그것이 최솟값이다. \n",
    "            if graph[nY][nX] == 1 and not visited[nY][nX]:\n",
    "                visited[nY][nX] = True\n",
    "                queue.append([nY, nX])\n",
    "                count_table[nY][nX] += count_table[y][x] + 1\n",
    "\n",
    "print(count_table[N-1][M-1])"
   ]
  },
  {
   "cell_type": "code",
   "execution_count": null,
   "metadata": {},
   "outputs": [],
   "source": []
  }
 ],
 "metadata": {
  "kernelspec": {
   "display_name": "Python 3",
   "language": "python",
   "name": "python3"
  },
  "language_info": {
   "codemirror_mode": {
    "name": "ipython",
    "version": 3
   },
   "file_extension": ".py",
   "mimetype": "text/x-python",
   "name": "python",
   "nbconvert_exporter": "python",
   "pygments_lexer": "ipython3",
   "version": "3.7.6"
  }
 },
 "nbformat": 4,
 "nbformat_minor": 4
}
