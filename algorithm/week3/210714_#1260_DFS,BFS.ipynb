{
 "cells": [
  {
   "cell_type": "markdown",
   "metadata": {},
   "source": [
    "-  <map 함수>\n",
    "map(f, iterable)은 함수(f)와 반복 가능한(iterable) 자료형을 입력으로 받는다. \n",
    "map은 입력받은 자료형의 각 요소를 함수 f가 수행한 결과를 묶어서 돌려주는 함수이다.\n",
    "\n",
    "\n",
    "- print 옵션 end=\" \"\n",
    " 이 옵션의 경우 print 문을 이용해 출력을 완료한 뒤의 내용을 수정할 수 있습니다. 기본 값으로는 개행(\\n)이 들어가 있으며 이를 사용해 개행을 없애거나 원하는 문자를 입력할 수 있습니다."
   ]
  },
  {
   "cell_type": "code",
   "execution_count": null,
   "metadata": {},
   "outputs": [],
   "source": [
    "# N = 노드의 갯수, M = 간선의 갯수, V = 시작노드 번호\n",
    "N, M, V = map(int, input().split())\n",
    "\n",
    "# (N+1) * (N+1) 이차원 행렬 생성 \n",
    "matrix = [[0]*(N+1) for i in range (N+1)]\n",
    "\n",
    "for i in range(M) : \n",
    "    a, b = map(int, input().split())\n",
    "    #간선으로 이어진 노드들에 연결됨을 체크\n",
    "    matrix[a][b] = matrix[b][a] = 1\n",
    "    \n",
    "# N+1 일차원 행렬 생성\n",
    "visit_list = [0] * (N+1)\n",
    "\n",
    "def dfs(V) :\n",
    "    visit_list[V] = 1 #방문할 점 저장\n",
    "    print(V, end = ' ')\n",
    "    for i in range(1, N+1):\n",
    "        if(visit_list[i]==0 and matrix[V][i]==1):\n",
    "            dfs(i)\n",
    "    \n",
    "\n",
    "def bfs(V):\n",
    "    queue=[V] #들려야 할 정점 저장\n",
    "    visit_list[V]=0 #방문한 점 0으로 표시\n",
    "    while queue :\n",
    "        V=queue.pop(0)\n",
    "        print(V, end=' ')\n",
    "        for i in range(1, N+1):\n",
    "            if(visit_list[i]==1 and matrix[V][i]==1):\n",
    "                queue.append(i)\n",
    "                visit_list[i]=0\n",
    "\n",
    "dfs(V)\n",
    "print()\n",
    "bfs(V)    "
   ]
  }
 ],
 "metadata": {
  "kernelspec": {
   "display_name": "Python 3",
   "language": "python",
   "name": "python3"
  },
  "language_info": {
   "codemirror_mode": {
    "name": "ipython",
    "version": 3
   },
   "file_extension": ".py",
   "mimetype": "text/x-python",
   "name": "python",
   "nbconvert_exporter": "python",
   "pygments_lexer": "ipython3",
   "version": "3.7.6"
  }
 },
 "nbformat": 4,
 "nbformat_minor": 4
}
