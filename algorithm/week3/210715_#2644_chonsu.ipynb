{
 "cells": [
  {
   "cell_type": "markdown",
   "metadata": {},
   "source": [
    "# 촌수 계산\n",
    "\n",
    "\n",
    "### BFS 로 푸는 이유\n",
    "- breadth 기준으로 낮은 촌수부터 (낮은 depth 부터)쭉쭉 체크해나간다.\n",
    "- 낮은 depth에 있는 것이 최소로 작은(쓸데없이 더 촌수를 많이 게산하지 않은) 촌수이다.\n",
    "\n",
    "    \n",
    "### 컨셉\n",
    "- 부모-자식관계가 아닌 관계는 count 하지 않는다.\n",
    "- 맨 꼭대기 처음 시작하는 포인트는 = 찾으려는 손윗사람 , target = 찾으려는 손아랫사람\n",
    "    찾을때마다 = 촌수 count\n",
    "    "
   ]
  },
  {
   "cell_type": "code",
   "execution_count": null,
   "metadata": {},
   "outputs": [
    {
     "name": "stdin",
     "output_type": "stream",
     "text": [
      " 9\n",
      " 7 3\n",
      " 7\n"
     ]
    }
   ],
   "source": [
    "from collections import deque\n",
    "\n",
    "def bfs(v, target):\n",
    "    count = 0\n",
    "    q = deque([[v, count]])\n",
    "    \n",
    "    while q:\n",
    "        value = q.popleft()\n",
    "        v = value[0]\n",
    "        count = value[1]\n",
    "        if v == target:\n",
    "            return count\n",
    "            \n",
    "        if not visited[v]:\n",
    "            count += 1\n",
    "            visited[v] = True\n",
    "            for e in parent_child[v]:\n",
    "                if not visited[e]:\n",
    "                    q.append([e, count])\n",
    "    return -1\n",
    "\n",
    "\n",
    "total_people_num = int(input())\n",
    "target_1, target2 = map(int, input().split())\n",
    "relation_num = int(input())\n",
    "\n",
    "# 빈 리스트 []가 totla_people_num+1 \n",
    "parent_child = [[] for _ in range(total_people_num+1)]\n",
    "visited = [False] * (total_people_num+1)\n",
    "\n",
    "# 한 depth (같은 높이를 가진)마다 relation_num 만큼 체크해야한다. \n",
    "for _ in range(relation_num):\n",
    "    x, y = map(int, input().split())\n",
    "    parent_child[x].append(y)\n",
    "    parent_child[y].append(x)\n",
    "\n",
    "print(bfs(target_1, target2))"
   ]
  },
  {
   "cell_type": "code",
   "execution_count": 4,
   "metadata": {},
   "outputs": [
    {
     "name": "stdout",
     "output_type": "stream",
     "text": [
      "[[], [], [], []]\n"
     ]
    }
   ],
   "source": [
    "n = 3\n",
    "adj = [[] for _ in range(n+1)]\n",
    "print(adj)"
   ]
  },
  {
   "cell_type": "code",
   "execution_count": null,
   "metadata": {},
   "outputs": [],
   "source": []
  }
 ],
 "metadata": {
  "kernelspec": {
   "display_name": "Python 3",
   "language": "python",
   "name": "python3"
  },
  "language_info": {
   "codemirror_mode": {
    "name": "ipython",
    "version": 3
   },
   "file_extension": ".py",
   "mimetype": "text/x-python",
   "name": "python",
   "nbconvert_exporter": "python",
   "pygments_lexer": "ipython3",
   "version": "3.7.6"
  }
 },
 "nbformat": 4,
 "nbformat_minor": 4
}
